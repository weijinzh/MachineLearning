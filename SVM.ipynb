{
 "cells": [
  {
   "cell_type": "code",
   "execution_count": 1,
   "metadata": {
    "collapsed": true
   },
   "outputs": [],
   "source": [
    "import numpy as np\n",
    "import pickle\n",
    "import gzip\n",
    "from sklearn.svm import SVC\n",
    "import os\n",
    "from PIL import Image"
   ]
  },
  {
   "cell_type": "code",
   "execution_count": 2,
   "metadata": {
    "collapsed": true
   },
   "outputs": [],
   "source": [
    "TrainingDataFile = 'mnist.pkl.gz'\n",
    "Data = gzip.open(TrainingDataFile,'rb')\n",
    "training,validation,testing= pickle.load(Data,encoding='latin1')\n",
    "trainingData = training[0]\n",
    "trainingTarget = training[1]\n",
    "testingData = testing[0]\n",
    "testingTarget = testing[1]"
   ]
  },
  {
   "cell_type": "code",
   "execution_count": 3,
   "metadata": {
    "collapsed": true
   },
   "outputs": [],
   "source": [
    "USPSMat  = []\n",
    "USPSTar  = []\n",
    "curPath  = 'USPSdata/Numerals'\n",
    "savedImg = []\n",
    "for j in range(0,10):\n",
    "    curFolderPath = curPath + '/' + str(j)\n",
    "    imgs =  os.listdir(curFolderPath)\n",
    "    for img in imgs:\n",
    "        curImg = curFolderPath + '/' + img\n",
    "        if curImg[-3:] == 'png':\n",
    "            img = Image.open(curImg,'r')\n",
    "            img = img.resize((28, 28))\n",
    "            savedImg = img\n",
    "            imgdata = (255-np.array(img.getdata()))/255\n",
    "            USPSMat.append(imgdata)\n",
    "            USPSTar.append(j)\n",
    "\n",
    "testingData = np.array(USPSMat)\n",
    "testingTarget = np.array(USPSTar)"
   ]
  },
  {
   "cell_type": "code",
   "execution_count": 4,
   "metadata": {},
   "outputs": [
    {
     "name": "stdout",
     "output_type": "stream",
     "text": [
      "(50000, 784)\n",
      "(50000,)\n",
      "0.2912645632281614\n"
     ]
    }
   ],
   "source": [
    "classifier1 = SVC(kernel = 'linear')\n",
    "print(trainingData.shape)\n",
    "print(trainingTarget.shape)\n",
    "classifier1.fit(trainingData,trainingTarget)\n",
    "#predict = classifier1.predict(testingData)\n",
    "# predict = np.zeros(shape=(10000,10))\n",
    "# for x in range(len(testingData)):ff\n",
    "#     predict[x][test[x]] = 1\n",
    "\n",
    "#acc = classifier1.score(testingTarget,predict)\n",
    "acc = classifier1.score(testingData,testingTarget)\n",
    "print(acc)\n"
   ]
  }
 ],
 "metadata": {
  "kernelspec": {
   "display_name": "Python 3",
   "language": "python",
   "name": "python3"
  },
  "language_info": {
   "codemirror_mode": {
    "name": "ipython",
    "version": 3
   },
   "file_extension": ".py",
   "mimetype": "text/x-python",
   "name": "python",
   "nbconvert_exporter": "python",
   "pygments_lexer": "ipython3",
   "version": "3.6.3"
  }
 },
 "nbformat": 4,
 "nbformat_minor": 2
}
