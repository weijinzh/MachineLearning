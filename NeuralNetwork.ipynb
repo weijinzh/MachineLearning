{
 "cells": [
  {
   "cell_type": "code",
   "execution_count": 26,
   "metadata": {},
   "outputs": [],
   "source": [
    "import tensorflow as tf\n",
    "import pandas as pd\n",
    "from keras.utils import np_utils\n",
    "import numpy as np\n",
    "import itertools\n",
    "import csv\n",
    "import random\n",
    "import math\n",
    "import os\n",
    "import keras\n",
    "from PIL import Image\n",
    "from keras.layers import Dense\n",
    "from keras.models import Sequential\n",
    "from keras.datasets import mnist\n",
    "import matplotlib.pyplot as plt\n",
    "from keras import optimizers\n",
    "\n"
   ]
  },
  {
   "cell_type": "code",
   "execution_count": 27,
   "metadata": {
    "collapsed": true
   },
   "outputs": [],
   "source": [
    "USPSMat  = []\n",
    "USPSTar  = []\n",
    "curPath  = 'USPSdata/Numerals'\n",
    "savedImg = []\n",
    "for j in range(0,10):\n",
    "    curFolderPath = curPath + '/' + str(j)\n",
    "    imgs =  os.listdir(curFolderPath)\n",
    "    for img in imgs:\n",
    "        curImg = curFolderPath + '/' + img\n",
    "        if curImg[-3:] == 'png':\n",
    "            img = Image.open(curImg,'r')\n",
    "            img = img.resize((28, 28))\n",
    "            savedImg = img\n",
    "            imgdata = (255-np.array(img.getdata()))/255\n",
    "            USPSMat.append(imgdata)\n",
    "            USPSTar.append(j)"
   ]
  },
  {
   "cell_type": "code",
   "execution_count": 28,
   "metadata": {},
   "outputs": [],
   "source": [
    "image_size = 784\n",
    "(MNISTtrainingData,MNISTtrainingTarget),(MNISTtestingData,MNISTtestingTarget) = mnist.load_data()\n",
    "\n",
    "MNISTtrainingData = MNISTtrainingData.reshape(MNISTtrainingData.shape[0],784)\n",
    "MNISTtestingData = MNISTtestingData.reshape(MNISTtestingData.shape[0],784)\n",
    "MNISTtrainingTarget = tf.keras.utils.to_categorical(MNISTtrainingTarget,10)\n",
    "MNISTtestingTarget = tf.keras.utils.to_categorical(MNISTtestingTarget,10)\n",
    "\n",
    "\n",
    "USPSData = np.asarray(USPSMat)\n",
    "USPStestingTarget = np.asarray(USPSTar)\n",
    "USPStestingTarget = tf.keras.utils.to_categorical(USPStestingTarget,10)\n"
   ]
  },
  {
   "cell_type": "code",
   "execution_count": 33,
   "metadata": {},
   "outputs": [
    {
     "name": "stdout",
     "output_type": "stream",
     "text": [
      "dict_keys(['val_loss', 'val_acc', 'loss', 'acc'])\n",
      "10.010500525026252\n",
      "3.107379952361151\n"
     ]
    }
   ],
   "source": [
    "Model =Sequential()\n",
    "Model.add(Dense(units=16,activation='relu',input_shape=(image_size,)))\n",
    "Model.add(Dense(units=16,activation='relu',input_shape=(image_size,)))\n",
    "Model.add(Dense(units=10,activation='softmax'))\n",
    "#rms = optimizers.RMSprop(lr=0.001)\n",
    "Model.compile(optimizer ='RMSprop',loss = 'categorical_crossentropy', metrics = ['accuracy'])\n",
    "history = Model.fit(MNISTtrainingData,MNISTtrainingTarget,batch_size= 128,epochs = 30,verbose=False, validation_split= 0.1)\n",
    "loss,accuracy = Model.evaluate(USPSData,USPStestingTarget,verbose = False)\n",
    "print(history.history.keys())\n",
    "#plt.plot(history.history['acc'])\n",
    "#plt.plot(history.history['val_acc'])\n",
    "#plt.title('model accuracy')\n",
    "#plt.ylabel('accuracy')\n",
    "#plt.xlabel('')\n",
    "#plt.legend(['train', 'test'], loc='upper left')\n",
    "#plt.show()\n",
    "#plt.imsave()\n",
    "print(accuracy*100)\n",
    "print(loss)\n"
   ]
  }
 ],
 "metadata": {
  "kernelspec": {
   "display_name": "Python 3",
   "language": "python",
   "name": "python3"
  },
  "language_info": {
   "codemirror_mode": {
    "name": "ipython",
    "version": 3
   },
   "file_extension": ".py",
   "mimetype": "text/x-python",
   "name": "python",
   "nbconvert_exporter": "python",
   "pygments_lexer": "ipython3",
   "version": "3.6.3"
  }
 },
 "nbformat": 4,
 "nbformat_minor": 2
}
